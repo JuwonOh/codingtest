{
 "cells": [
  {
   "cell_type": "code",
   "execution_count": 1,
   "metadata": {},
   "outputs": [],
   "source": [
    "\n",
    "def parse1():\n",
    "    for line in open(\"log.txt\"):\n",
    "        print(line.split(\"[\")[1].split(\"]\")[0])\n",
    "\n",
    "def parse2():\n",
    "    for line in open(\"log.txt\", \"r\"):\n",
    "        print(line.split()[3].strip(\"[]\"))\n",
    "\n",
    "def parse3():\n",
    "    for line in open(\"log.txt\", \"r\"):\n",
    "        print(\" \".join(line.split(\"[\" or \"]\")[3:5]))\n",
    "\n",
    "def parse4():\n",
    "    for line in open(\"log.txt\", \"rw\"):\n",
    "        print(\" \".join(line.split()[3:5]).strip(\"[]\"))\n",
    "  \n",
    "def parse5():\n",
    "    for line in open(\"log.txt\"):\n",
    "        print(re.split(\"\\[|\\]\", line)[1])"
   ]
  },
  {
   "cell_type": "code",
   "execution_count": 6,
   "metadata": {},
   "outputs": [
    {
     "data": {
      "text/plain": [
       "2"
      ]
     },
     "execution_count": 6,
     "metadata": {},
     "output_type": "execute_result"
    }
   ],
   "source": [
    "d.pop(2)"
   ]
  },
  {
   "cell_type": "code",
   "execution_count": null,
   "metadata": {},
   "outputs": [],
   "source": [
    "# 성공!\n",
    "def solution(board, moves):\n",
    "    bucket = []\n",
    "    answer = []\n",
    "    for move in moves:\n",
    "        for i in range(len(board)):\n",
    "            if board[i][move-1] > 0:\n",
    "                bucket.append(board[i][move-1])\n",
    "                board[i][move-1] = 0\n",
    "                if bucket[-1:] == bucket[-2:-1]:\n",
    "                    answer += bucket[-1:]\n",
    "                    bucket = bucket[:-2]\n",
    "                break\n",
    "    return len(answer)*2"
   ]
  },
  {
   "cell_type": "code",
   "execution_count": null,
   "metadata": {},
   "outputs": [],
   "source": [
    "import numpy as np\n",
    "\n",
    "def solution(board, moves):\n",
    "    output = []\n",
    "    answer = 0\n",
    "    board = np.array(board)\n",
    "    for move in moves:\n",
    "        temp = board[:,move-1]\n",
    "        for idx, out in enumerate(temp):\n",
    "            if out != 0:\n",
    "                output.append(out)\n",
    "                board[idx,move-1] = 0\n",
    "                if output[-1:] == output[-2:-1]:\n",
    "                    answer += 1\n",
    "                    output = output[-2:-1]\n",
    "                    break\n",
    "        \n",
    "        \n",
    "    return answer"
   ]
  }
 ],
 "metadata": {
  "interpreter": {
   "hash": "c2d695053b52b951b3375d36eeb989fc19fb77982e3543c9c00e03af41956327"
  },
  "kernelspec": {
   "display_name": "Python 3.9.7 ('base')",
   "language": "python",
   "name": "python3"
  },
  "language_info": {
   "codemirror_mode": {
    "name": "ipython",
    "version": 3
   },
   "file_extension": ".py",
   "mimetype": "text/x-python",
   "name": "python",
   "nbconvert_exporter": "python",
   "pygments_lexer": "ipython3",
   "version": "3.9.7"
  },
  "orig_nbformat": 4
 },
 "nbformat": 4,
 "nbformat_minor": 2
}
