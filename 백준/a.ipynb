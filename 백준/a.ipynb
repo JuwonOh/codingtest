{
 "cells": [
  {
   "cell_type": "code",
   "execution_count": 9,
   "metadata": {},
   "outputs": [],
   "source": [
    "def manhattan_distance(x,y):\n",
    "    return sum(abs(a-b) for a,b in zip(x,y))\n",
    " \n",
    "def solution(numbers, hand):\n",
    "    location = {\"1\": [1,1], \"2\": [1,2], \"3\": [1,3], \"4\": [2,1], \"5\": [2,2], \"6\": [2,3],\"7\": [3,1], \"8\": [3,2], \"9\":[3,3], '*':[4,1], '0':[4,2], '#' :[4,3]}\n",
    "    answer = ''\n",
    "    left_hand = \"*\"\n",
    "    right_hand = \"#\"\n",
    "    for number in numbers:\n",
    "        if number in [1,4,7]:\n",
    "            answer+='L'\n",
    "            left_hand = number\n",
    "        elif number in [3, 6, 9]:\n",
    "            answer+='R'\n",
    "            right_hand = number\n",
    "        else:\n",
    "            r_distance = manhattan_distance(location[str(right_hand)], location[str(number)])\n",
    "            l_distance = manhattan_distance(location[str(left_hand)], location[str(number)])\n",
    "            if r_distance > l_distance:\n",
    "                answer+='L'\n",
    "                left_hand = number\n",
    "            elif r_distance < l_distance:\n",
    "                answer+='R'\n",
    "                right_hand = number\n",
    "            else:\n",
    "                answer+=hand[0].upper()\n",
    "                right_hand = answer[-1] if answer[-1] == 'R'\n",
    "                left_hand = answer[-1] if answer[-1] == 'L'\n",
    "    print(answer)\n",
    "    return answer"
   ]
  },
  {
   "cell_type": "code",
   "execution_count": 10,
   "metadata": {},
   "outputs": [
    {
     "name": "stdout",
     "output_type": "stream",
     "text": [
      "LRLLLRLLRRL\n"
     ]
    },
    {
     "data": {
      "text/plain": [
       "'LRLLLRLLRRL'"
      ]
     },
     "execution_count": 10,
     "metadata": {},
     "output_type": "execute_result"
    }
   ],
   "source": [
    "\n",
    "numbers = [1, 3, 4, 5, 8, 2, 1, 4, 5, 9, 5]\n",
    "hand = \"right\"\n",
    "\n",
    "solution(numbers, hand)"
   ]
  },
  {
   "cell_type": "code",
   "execution_count": null,
   "metadata": {},
   "outputs": [],
   "source": []
  }
 ],
 "metadata": {
  "interpreter": {
   "hash": "f219da4891a7a5ea0f216f864d5f845ae5f03034fa6f504dbff0dddb3a4f8dd8"
  },
  "kernelspec": {
   "display_name": "Python 3.9.12 ('base')",
   "language": "python",
   "name": "python3"
  },
  "language_info": {
   "codemirror_mode": {
    "name": "ipython",
    "version": 3
   },
   "file_extension": ".py",
   "mimetype": "text/x-python",
   "name": "python",
   "nbconvert_exporter": "python",
   "pygments_lexer": "ipython3",
   "version": "3.9.12"
  },
  "orig_nbformat": 4
 },
 "nbformat": 4,
 "nbformat_minor": 2
}
