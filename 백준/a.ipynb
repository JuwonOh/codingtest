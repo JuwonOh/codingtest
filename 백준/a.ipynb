{
 "cells": [
  {
   "cell_type": "code",
   "execution_count": 71,
   "metadata": {},
   "outputs": [],
   "source": [
    "def solution(numbers, target):\n",
    "\tif not numbers and target == 0:\n",
    "\t\treturn 1\n",
    "\telif not numbers:\n",
    "\t\treturn 0\n",
    "\telse:\n",
    "\t\treturn solution(numbers[1:], target - numbers[1:]) + solution(numbers[1:], target + numbers[0])"
   ]
  },
  {
   "cell_type": "code",
   "execution_count": 74,
   "metadata": {},
   "outputs": [],
   "source": [
    "n =5\n",
    "array = [[\"X S X X T\"],[\"T X S X X\"],[\"X X X X X\"],[\"X T X X X\"],[\"X X T X X\"]]\n"
   ]
  },
  {
   "cell_type": "code",
   "execution_count": null,
   "metadata": {},
   "outputs": [],
   "source": [
    "n = int(input())\n",
    "i = 2\n",
    "yaksu = []\n",
    "\n",
    "while n != 1:\n",
    "    if n % i == 0:\n",
    "        n = n // i\n",
    "        yaksu.append(i)\n",
    "    else:\n",
    "        i += 1\n",
    "\n",
    "for i in res:\n",
    "\tprint(i)"
   ]
  },
  {
   "cell_type": "code",
   "execution_count": 8,
   "metadata": {},
   "outputs": [
    {
     "name": "stdout",
     "output_type": "stream",
     "text": [
      "[2] 2 36\n",
      "[2, 2] 2 18\n",
      "[2, 2, 2] 2 9\n",
      "[2, 2, 2, 3] 3 3\n",
      "[2, 2, 2, 3, 3] 3 1\n",
      "2\n",
      "2\n",
      "2\n",
      "3\n",
      "3\n"
     ]
    }
   ],
   "source": [
    "n = 72\n",
    "res = []\n",
    "i = 2A\n",
    "while n != 1:\n",
    "    if n % i == 0:\n",
    "        res.append(i)\n",
    "        n = n//i\n",
    "        print(res, i, n)\n",
    "    else:\n",
    "        i += 1\n",
    "for i in res:\n",
    "    print(i)"
   ]
  },
  {
   "cell_type": "code",
   "execution_count": null,
   "metadata": {},
   "outputs": [],
   "source": [
    "n_num = 5\n",
    "n_list = (\"bc\",\"bc\",\"bc\",\"bc\",\"bc\",\"bc\",\"bc\")\n",
    "init = []\n",
    "for i in n_list:\n",
    "    init.append(i[0])\n",
    "print(init)\n",
    "res = []\n",
    "\n",
    "\n",
    "for key, value in init.items():\n",
    "    if value >= 5:\n",
    "        res.append(key)\n",
    "res.sort()\n",
    "if res:\n",
    "    print(''.join(res))\n",
    "else:\n",
    "    print('PREDAJA')"
   ]
  },
  {
   "cell_type": "code",
   "execution_count": null,
   "metadata": {},
   "outputs": [],
   "source": []
  },
  {
   "cell_type": "code",
   "execution_count": null,
   "metadata": {},
   "outputs": [],
   "source": []
  },
  {
   "cell_type": "code",
   "execution_count": null,
   "metadata": {},
   "outputs": [],
   "source": []
  },
  {
   "cell_type": "code",
   "execution_count": null,
   "metadata": {},
   "outputs": [],
   "source": []
  },
  {
   "cell_type": "code",
   "execution_count": null,
   "metadata": {},
   "outputs": [],
   "source": [
    "# 각 노드가 연결된 정보를 표현.ex) 1번 노드는 2,3,8\n",
    "graph = [[], [2,3,8], [1,7], [1,4,5], [3,5], [3,4], [7], [2,6,8], [1,7]]\n",
    "# 각 노드가 방문한 노드인지 여부를 표현. index 0은 사용하지 않음.\n",
    "visited = [False] * 9\n",
    "\n",
    "# DFS 함수 정의\n",
    "from collections import deque\n",
    "def bfs(graph, start, visited):\n",
    "    queue = deque([start])\n",
    "    visited[start] = True\n",
    "    while queue:\n",
    "        v = queue.popleft()\n",
    "        print(v, end = '')\n",
    "        for i in graph[v]:\n",
    "            if not visited[i]:\n",
    "                queue.append(i)\n",
    "                visited[i] = True\n",
    "\n",
    "\n",
    "bfs(graph,1,visited)"
   ]
  },
  {
   "cell_type": "code",
   "execution_count": null,
   "metadata": {},
   "outputs": [],
   "source": [
    "cnt_list = []\n",
    "progresses = [95, 90, 99, 99, 80, 99]\t\n",
    "speeds = [1, 1, 1, 1, 1, 1]\n",
    "def solution(progresses, speeds):\n",
    "    while progresses:\n",
    "        progresses = [sum(x) for x in zip(progresses, speeds)]\n",
    "        \n",
    "        cnt = 0\n",
    "        while progresses and progresses[0] >= 100:\n",
    "             progresses.pop(0)\n",
    "             speeds.pop(0)\n",
    "             cnt += 1\n",
    "        if cnt >=1:\n",
    "            cnt_list.append(cnt)\n",
    "    print(cnt_list)\n",
    "    return cnt_list"
   ]
  },
  {
   "cell_type": "code",
   "execution_count": null,
   "metadata": {},
   "outputs": [],
   "source": [
    "solution(progresses, speeds)"
   ]
  },
  {
   "cell_type": "code",
   "execution_count": null,
   "metadata": {},
   "outputs": [],
   "source": [
    "len('21 96 57 80 25 42 47 88 54 84 76 9 24 65 42 11 2 5 94 77 98 5 93 12 98 6 52 40 42 32 89 18 82 78 24 43 50 84 7 21 79 54 94 32 7 99 98 98 35 88'.split())"
   ]
  },
  {
   "cell_type": "code",
   "execution_count": null,
   "metadata": {},
   "outputs": [],
   "source": [
    "def isPrime(num):\n",
    "    for i in range(2, num//2+1):\n",
    "        if num == 0:\n",
    "            return False\n",
    "        if num % i == 0:\n",
    "            return False\n",
    "        else:\n",
    "            return True"
   ]
  },
  {
   "cell_type": "code",
   "execution_count": null,
   "metadata": {},
   "outputs": [],
   "source": [
    "from collections import Counter"
   ]
  },
  {
   "cell_type": "code",
   "execution_count": null,
   "metadata": {},
   "outputs": [],
   "source": [
    "a = [\"marina\", \"josipa\", \"nikola\", \"vinko\", \"filipa\"]\n",
    "b =[\"marina\", \"josipa\", \"nikola\", \"vinko\"]"
   ]
  },
  {
   "cell_type": "code",
   "execution_count": null,
   "metadata": {},
   "outputs": [],
   "source": [
    "(Counter(a) - Counter(b)).keys()"
   ]
  },
  {
   "cell_type": "code",
   "execution_count": null,
   "metadata": {},
   "outputs": [],
   "source": []
  },
  {
   "cell_type": "code",
   "execution_count": null,
   "metadata": {},
   "outputs": [],
   "source": [
    "def f1(list_of_list):\n",
    "    result = []\n",
    "    for inner_list in list_of_list:\n",
    "        for x in inner_list:\n",
    "            if x not in result:\n",
    "                result.append(x)\n",
    "    return result\n",
    "\n",
    "def f2(list_of_list):\n",
    "    flat_list = []\n",
    "    for inner_list in list_of_list:\n",
    "        flat_list.extend(inner_list)\n",
    "    return [\n",
    "        x for i, x in enumerate(flat_list)\n",
    "        if flat_list.index(x) == i]\n",
    "\n",
    "def f3(list_of_list):\n",
    "    result = []\n",
    "    seen = set()\n",
    "    for inner_list in list_of_list:\n",
    "        for x in inner_list:\n",
    "            if x not in seen:\n",
    "                result.append(x)\n",
    "                seen.add(x)\n",
    "    return result"
   ]
  },
  {
   "cell_type": "code",
   "execution_count": null,
   "metadata": {},
   "outputs": [],
   "source": [
    "ActivationLayer()"
   ]
  },
  {
   "cell_type": "code",
   "execution_count": null,
   "metadata": {},
   "outputs": [],
   "source": [
    "list_of_list *3"
   ]
  },
  {
   "cell_type": "code",
   "execution_count": null,
   "metadata": {},
   "outputs": [],
   "source": [
    "list_of_list = [1,2,3, 4,5,6,7, 1,2,3,7,8,9]"
   ]
  },
  {
   "cell_type": "code",
   "execution_count": null,
   "metadata": {},
   "outputs": [],
   "source": [
    "nums = [1,2,3,4,5,6, -1, 2]"
   ]
  },
  {
   "cell_type": "code",
   "execution_count": null,
   "metadata": {},
   "outputs": [],
   "source": [
    "def sqsum4():\n",
    "      \treturn sum(x**2 for x in nums if x > 0)\n",
    "\t\t## 성공: 읽으면 답"
   ]
  },
  {
   "cell_type": "code",
   "execution_count": null,
   "metadata": {},
   "outputs": [],
   "source": [
    "1^1"
   ]
  },
  {
   "cell_type": "code",
   "execution_count": null,
   "metadata": {},
   "outputs": [],
   "source": [
    "def sqsum2():\n",
    "      \treturn sum(x^2 for x in nums if x > 0)\n",
    "\t\t## 성공: 읽으면 답"
   ]
  },
  {
   "cell_type": "code",
   "execution_count": null,
   "metadata": {},
   "outputs": [],
   "source": [
    "sqsum2()"
   ]
  },
  {
   "cell_type": "code",
   "execution_count": null,
   "metadata": {},
   "outputs": [],
   "source": [
    "sqsum4()"
   ]
  },
  {
   "cell_type": "code",
   "execution_count": null,
   "metadata": {},
   "outputs": [],
   "source": [
    "def f2(list_of_list):\n",
    "    flat_list = []\n",
    "    for inner_list in list_of_list:\n",
    "        flat_list.extend(inner_list)\n",
    "    return [\n",
    "        x for i, x in enumerate(flat_list)\n",
    "        if flat_list.index(x) == i]"
   ]
  },
  {
   "cell_type": "code",
   "execution_count": null,
   "metadata": {},
   "outputs": [],
   "source": [
    "def f3(list_of_list):\n",
    "    result = []\n",
    "    seen = set()\n",
    "    for inner_list in list_of_list:\n",
    "        for x in inner_list:\n",
    "            if x not in seen:\n",
    "                result.append(x)\n",
    "                seen.add(x)\n",
    "    return result"
   ]
  },
  {
   "cell_type": "code",
   "execution_count": null,
   "metadata": {},
   "outputs": [],
   "source": [
    "import time\n",
    "start = time.time()  # 시작 시간 저장\n",
    "f1(list_of_list*10000)\n",
    "\n",
    "print(\"time :\", time.time() - start)  # 현재시각 - 시작시간 = 실행 시간\n"
   ]
  },
  {
   "cell_type": "code",
   "execution_count": null,
   "metadata": {},
   "outputs": [],
   "source": [
    "import time\n",
    "start = time.time()  # 시작 시간 저장\n",
    "f2(list_of_list*10000)\n",
    "\n",
    "print(\"time :\", time.time() - start)  # 현재시각 - 시작시간 = 실행 시간a"
   ]
  },
  {
   "cell_type": "code",
   "execution_count": null,
   "metadata": {},
   "outputs": [],
   "source": [
    "import time\n",
    "start = time.time()  # 시작 시간 저장\n",
    "f3(list_of_list*10000)\n",
    "\n",
    "print(\"time :\", time.time() - start)  # 현재시각 - 시작시간 = 실행 시간a"
   ]
  },
  {
   "cell_type": "code",
   "execution_count": null,
   "metadata": {},
   "outputs": [],
   "source": [
    "d.pop(2)"
   ]
  },
  {
   "cell_type": "code",
   "execution_count": null,
   "metadata": {},
   "outputs": [],
   "source": [
    "# 성공!\n",
    "def solution(board, moves):\n",
    "    bucket = []\n",
    "    answer = []\n",
    "    for move in moves:\n",
    "        for i in range(len(board)):\n",
    "            if board[i][move-1] > 0:\n",
    "                bucket.append(board[i][move-1])\n",
    "                board[i][move-1] = 0\n",
    "                if bucket[-1:] == bucket[-2:-1]:\n",
    "                    answer += bucket[-1:]\n",
    "                    bucket = bucket[:-2]\n",
    "                break\n",
    "    return len(answer)*2"
   ]
  },
  {
   "cell_type": "code",
   "execution_count": null,
   "metadata": {},
   "outputs": [],
   "source": [
    "import numpy as np\n",
    "\n",
    "def solution(board, moves):\n",
    "    output = []\n",
    "    answer = 0\n",
    "    board = np.array(board)\n",
    "    for move in moves:\n",
    "        temp = board[:,move-1]\n",
    "        for idx, out in enumerate(temp):\n",
    "            if out != 0:\n",
    "                output.append(out)\n",
    "                board[idx,move-1] = 0\n",
    "                if output[-1:] == output[-2:-1]:\n",
    "                    answer += 1\n",
    "                    output = output[-2:-1]\n",
    "                    break\n",
    "        \n",
    "        \n",
    "    return answer"
   ]
  }
 ],
 "metadata": {
  "kernelspec": {
   "display_name": "Python 3.9.7 ('base')",
   "language": "python",
   "name": "python3"
  },
  "language_info": {
   "codemirror_mode": {
    "name": "ipython",
    "version": 3
   },
   "file_extension": ".py",
   "mimetype": "text/x-python",
   "name": "python",
   "nbconvert_exporter": "python",
   "pygments_lexer": "ipython3",
   "version": "3.9.7"
  },
  "orig_nbformat": 4,
  "vscode": {
   "interpreter": {
    "hash": "c2d695053b52b951b3375d36eeb989fc19fb77982e3543c9c00e03af41956327"
   }
  }
 },
 "nbformat": 4,
 "nbformat_minor": 2
}
