{
 "cells": [
  {
   "cell_type": "code",
   "execution_count": 4,
   "metadata": {},
   "outputs": [
    {
     "name": "stdout",
     "output_type": "stream",
     "text": [
      "{('cpp', 'backend', 'junior', 'chicken'): [], ('cpp', 'backend', 'junior', 'pizza'): [], ('cpp', 'backend', 'junior', '-'): [], ('cpp', 'backend', 'senior', 'chicken'): [], ('cpp', 'backend', 'senior', 'pizza'): [], ('cpp', 'backend', 'senior', '-'): [], ('cpp', 'backend', '-', 'chicken'): [], ('cpp', 'backend', '-', 'pizza'): [], ('cpp', 'backend', '-', '-'): [], ('cpp', 'frontend', 'junior', 'chicken'): [], ('cpp', 'frontend', 'junior', 'pizza'): [], ('cpp', 'frontend', 'junior', '-'): [], ('cpp', 'frontend', 'senior', 'chicken'): [], ('cpp', 'frontend', 'senior', 'pizza'): [], ('cpp', 'frontend', 'senior', '-'): [], ('cpp', 'frontend', '-', 'chicken'): [], ('cpp', 'frontend', '-', 'pizza'): [], ('cpp', 'frontend', '-', '-'): [], ('cpp', '-', 'junior', 'chicken'): [], ('cpp', '-', 'junior', 'pizza'): [], ('cpp', '-', 'junior', '-'): [], ('cpp', '-', 'senior', 'chicken'): [], ('cpp', '-', 'senior', 'pizza'): [], ('cpp', '-', 'senior', '-'): [], ('cpp', '-', '-', 'chicken'): [], ('cpp', '-', '-', 'pizza'): [], ('cpp', '-', '-', '-'): [], ('java', 'backend', 'junior', 'chicken'): [], ('java', 'backend', 'junior', 'pizza'): [], ('java', 'backend', 'junior', '-'): [], ('java', 'backend', 'senior', 'chicken'): [], ('java', 'backend', 'senior', 'pizza'): [], ('java', 'backend', 'senior', '-'): [], ('java', 'backend', '-', 'chicken'): [], ('java', 'backend', '-', 'pizza'): [], ('java', 'backend', '-', '-'): [], ('java', 'frontend', 'junior', 'chicken'): [], ('java', 'frontend', 'junior', 'pizza'): [], ('java', 'frontend', 'junior', '-'): [], ('java', 'frontend', 'senior', 'chicken'): [], ('java', 'frontend', 'senior', 'pizza'): [], ('java', 'frontend', 'senior', '-'): [], ('java', 'frontend', '-', 'chicken'): [], ('java', 'frontend', '-', 'pizza'): [], ('java', 'frontend', '-', '-'): [], ('java', '-', 'junior', 'chicken'): [], ('java', '-', 'junior', 'pizza'): [], ('java', '-', 'junior', '-'): [], ('java', '-', 'senior', 'chicken'): [], ('java', '-', 'senior', 'pizza'): [], ('java', '-', 'senior', '-'): [], ('java', '-', '-', 'chicken'): [], ('java', '-', '-', 'pizza'): [], ('java', '-', '-', '-'): [], ('python', 'backend', 'junior', 'chicken'): [], ('python', 'backend', 'junior', 'pizza'): [], ('python', 'backend', 'junior', '-'): [], ('python', 'backend', 'senior', 'chicken'): [], ('python', 'backend', 'senior', 'pizza'): [], ('python', 'backend', 'senior', '-'): [], ('python', 'backend', '-', 'chicken'): [], ('python', 'backend', '-', 'pizza'): [], ('python', 'backend', '-', '-'): [], ('python', 'frontend', 'junior', 'chicken'): [], ('python', 'frontend', 'junior', 'pizza'): [], ('python', 'frontend', 'junior', '-'): [], ('python', 'frontend', 'senior', 'chicken'): [], ('python', 'frontend', 'senior', 'pizza'): [], ('python', 'frontend', 'senior', '-'): [], ('python', 'frontend', '-', 'chicken'): [], ('python', 'frontend', '-', 'pizza'): [], ('python', 'frontend', '-', '-'): [], ('python', '-', 'junior', 'chicken'): [], ('python', '-', 'junior', 'pizza'): [], ('python', '-', 'junior', '-'): [], ('python', '-', 'senior', 'chicken'): [], ('python', '-', 'senior', 'pizza'): [], ('python', '-', 'senior', '-'): [], ('python', '-', '-', 'chicken'): [], ('python', '-', '-', 'pizza'): [], ('python', '-', '-', '-'): [], ('-', 'backend', 'junior', 'chicken'): [], ('-', 'backend', 'junior', 'pizza'): [], ('-', 'backend', 'junior', '-'): [], ('-', 'backend', 'senior', 'chicken'): [], ('-', 'backend', 'senior', 'pizza'): [], ('-', 'backend', 'senior', '-'): [], ('-', 'backend', '-', 'chicken'): [], ('-', 'backend', '-', 'pizza'): [], ('-', 'backend', '-', '-'): [], ('-', 'frontend', 'junior', 'chicken'): [], ('-', 'frontend', 'junior', 'pizza'): [], ('-', 'frontend', 'junior', '-'): [], ('-', 'frontend', 'senior', 'chicken'): [], ('-', 'frontend', 'senior', 'pizza'): [], ('-', 'frontend', 'senior', '-'): [], ('-', 'frontend', '-', 'chicken'): [], ('-', 'frontend', '-', 'pizza'): [], ('-', 'frontend', '-', '-'): [], ('-', '-', 'junior', 'chicken'): [], ('-', '-', 'junior', 'pizza'): [], ('-', '-', 'junior', '-'): [], ('-', '-', 'senior', 'chicken'): [], ('-', '-', 'senior', 'pizza'): [], ('-', '-', 'senior', '-'): [], ('-', '-', '-', 'chicken'): [], ('-', '-', '-', 'pizza'): [], ('-', '-', '-', '-'): []}\n"
     ]
    }
   ],
   "source": [
    "data = dict()\n",
    "for a in [\"cpp\", 'java', \"python\", \"-\"]:\n",
    "    for b in [\"backend\", \"frontend\", \"-\"]:\n",
    "        for c in [\"junior\", \"senior\", \"-\"]:\n",
    "            for d in [\"chicken\", \"pizza\", \"-\"]:\n",
    "                data.setdefault((a,b,c,d), list())\n",
    "\n",
    "for k in data:\n",
    "    data[k].sort()\n",
    "print(data)"
   ]
  }
 ],
 "metadata": {
  "kernelspec": {
   "display_name": "Python 3.9.13 64-bit (microsoft store)",
   "language": "python",
   "name": "python3"
  },
  "language_info": {
   "codemirror_mode": {
    "name": "ipython",
    "version": 3
   },
   "file_extension": ".py",
   "mimetype": "text/x-python",
   "name": "python",
   "nbconvert_exporter": "python",
   "pygments_lexer": "ipython3",
   "version": "3.9.13"
  },
  "orig_nbformat": 4,
  "vscode": {
   "interpreter": {
    "hash": "adbeccdd932661f645fd295a322c8180dc9dee9064135a49c033051b9edefecc"
   }
  }
 },
 "nbformat": 4,
 "nbformat_minor": 2
}
